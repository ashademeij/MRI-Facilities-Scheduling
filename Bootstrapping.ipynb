{
 "cells": [
  {
   "cell_type": "code",
   "execution_count": 1,
   "metadata": {},
   "outputs": [],
   "source": [
    "import pandas as pd\n",
    "import numpy as np\n",
    "import matplotlib.pyplot as plt\n",
    "import seaborn as sns\n",
    "import scipy.stats as stats\n",
    "from scipy.stats import norm, jarque_bera, kstest, gamma, expon"
   ]
  },
  {
   "cell_type": "markdown",
   "metadata": {},
   "source": [
    "# Parametric: Bootstrapping"
   ]
  },
  {
   "cell_type": "code",
   "execution_count": 2,
   "metadata": {},
   "outputs": [
    {
     "name": "stdout",
     "output_type": "stream",
     "text": [
      "Shape of df:  (618, 4)\n"
     ]
    },
    {
     "data": {
      "text/html": [
       "<div>\n",
       "<style scoped>\n",
       "    .dataframe tbody tr th:only-of-type {\n",
       "        vertical-align: middle;\n",
       "    }\n",
       "\n",
       "    .dataframe tbody tr th {\n",
       "        vertical-align: top;\n",
       "    }\n",
       "\n",
       "    .dataframe thead th {\n",
       "        text-align: right;\n",
       "    }\n",
       "</style>\n",
       "<table border=\"1\" class=\"dataframe\">\n",
       "  <thead>\n",
       "    <tr style=\"text-align: right;\">\n",
       "      <th></th>\n",
       "      <th>Date</th>\n",
       "      <th>Time</th>\n",
       "      <th>Duration</th>\n",
       "      <th>PatientType</th>\n",
       "    </tr>\n",
       "  </thead>\n",
       "  <tbody>\n",
       "    <tr>\n",
       "      <th>0</th>\n",
       "      <td>2023-08-01</td>\n",
       "      <td>8.23</td>\n",
       "      <td>0.949176</td>\n",
       "      <td>Type 2</td>\n",
       "    </tr>\n",
       "    <tr>\n",
       "      <th>1</th>\n",
       "      <td>2023-08-01</td>\n",
       "      <td>8.49</td>\n",
       "      <td>0.479593</td>\n",
       "      <td>Type 1</td>\n",
       "    </tr>\n",
       "    <tr>\n",
       "      <th>2</th>\n",
       "      <td>2023-08-01</td>\n",
       "      <td>9.12</td>\n",
       "      <td>0.496112</td>\n",
       "      <td>Type 2</td>\n",
       "    </tr>\n",
       "    <tr>\n",
       "      <th>3</th>\n",
       "      <td>2023-08-01</td>\n",
       "      <td>10.26</td>\n",
       "      <td>0.691947</td>\n",
       "      <td>Type 2</td>\n",
       "    </tr>\n",
       "    <tr>\n",
       "      <th>4</th>\n",
       "      <td>2023-08-01</td>\n",
       "      <td>10.64</td>\n",
       "      <td>0.345412</td>\n",
       "      <td>Type 1</td>\n",
       "    </tr>\n",
       "  </tbody>\n",
       "</table>\n",
       "</div>"
      ],
      "text/plain": [
       "        Date   Time  Duration PatientType\n",
       "0 2023-08-01   8.23  0.949176      Type 2\n",
       "1 2023-08-01   8.49  0.479593      Type 1\n",
       "2 2023-08-01   9.12  0.496112      Type 2\n",
       "3 2023-08-01  10.26  0.691947      Type 2\n",
       "4 2023-08-01  10.64  0.345412      Type 1"
      ]
     },
     "execution_count": 2,
     "metadata": {},
     "output_type": "execute_result"
    }
   ],
   "source": [
    "df = pd.read_csv(\"ScanRecords.csv\")\n",
    "df['Date'] = pd.to_datetime(df['Date'])\n",
    "print(\"Shape of df: \", df.shape)\n",
    "df.head()"
   ]
  },
  {
   "cell_type": "code",
   "execution_count": 3,
   "metadata": {},
   "outputs": [],
   "source": [
    "df1 = df[df[\"PatientType\"] == \"Type 1\"]\n",
    "df2 = df[df[\"PatientType\"] == \"Type 2\"]"
   ]
  },
  {
   "cell_type": "code",
   "execution_count": 6,
   "metadata": {},
   "outputs": [
    {
     "name": "stdout",
     "output_type": "stream",
     "text": [
      "             count      mean       std       min       25%       50%  \\\n",
      "PatientType                                                            \n",
      "Type 1       379.0  0.432661  0.097774  0.093731  0.368123  0.435888   \n",
      "Type 2       239.0  0.669339  0.187286  0.220708  0.523962  0.646603   \n",
      "\n",
      "                  75%       max  \n",
      "PatientType                      \n",
      "Type 1       0.496907  0.708922  \n",
      "Type 2       0.796523  1.146789  \n"
     ]
    }
   ],
   "source": [
    "print(df.groupby('PatientType')['Duration'].describe())  "
   ]
  },
  {
   "cell_type": "markdown",
   "metadata": {},
   "source": [
    "## Type 1"
   ]
  },
  {
   "cell_type": "code",
   "execution_count": 4,
   "metadata": {},
   "outputs": [
    {
     "data": {
      "text/html": [
       "<div>\n",
       "<style scoped>\n",
       "    .dataframe tbody tr th:only-of-type {\n",
       "        vertical-align: middle;\n",
       "    }\n",
       "\n",
       "    .dataframe tbody tr th {\n",
       "        vertical-align: top;\n",
       "    }\n",
       "\n",
       "    .dataframe thead th {\n",
       "        text-align: right;\n",
       "    }\n",
       "</style>\n",
       "<table border=\"1\" class=\"dataframe\">\n",
       "  <thead>\n",
       "    <tr style=\"text-align: right;\">\n",
       "      <th></th>\n",
       "      <th>Date</th>\n",
       "      <th>Time</th>\n",
       "      <th>Duration</th>\n",
       "      <th>PatientType</th>\n",
       "    </tr>\n",
       "  </thead>\n",
       "  <tbody>\n",
       "    <tr>\n",
       "      <th>1</th>\n",
       "      <td>2023-08-01</td>\n",
       "      <td>8.49</td>\n",
       "      <td>0.479593</td>\n",
       "      <td>Type 1</td>\n",
       "    </tr>\n",
       "    <tr>\n",
       "      <th>4</th>\n",
       "      <td>2023-08-01</td>\n",
       "      <td>10.64</td>\n",
       "      <td>0.345412</td>\n",
       "      <td>Type 1</td>\n",
       "    </tr>\n",
       "    <tr>\n",
       "      <th>5</th>\n",
       "      <td>2023-08-01</td>\n",
       "      <td>11.07</td>\n",
       "      <td>0.422270</td>\n",
       "      <td>Type 1</td>\n",
       "    </tr>\n",
       "    <tr>\n",
       "      <th>6</th>\n",
       "      <td>2023-08-01</td>\n",
       "      <td>11.13</td>\n",
       "      <td>0.356129</td>\n",
       "      <td>Type 1</td>\n",
       "    </tr>\n",
       "    <tr>\n",
       "      <th>8</th>\n",
       "      <td>2023-08-01</td>\n",
       "      <td>11.56</td>\n",
       "      <td>0.423303</td>\n",
       "      <td>Type 1</td>\n",
       "    </tr>\n",
       "  </tbody>\n",
       "</table>\n",
       "</div>"
      ],
      "text/plain": [
       "        Date   Time  Duration PatientType\n",
       "1 2023-08-01   8.49  0.479593      Type 1\n",
       "4 2023-08-01  10.64  0.345412      Type 1\n",
       "5 2023-08-01  11.07  0.422270      Type 1\n",
       "6 2023-08-01  11.13  0.356129      Type 1\n",
       "8 2023-08-01  11.56  0.423303      Type 1"
      ]
     },
     "execution_count": 4,
     "metadata": {},
     "output_type": "execute_result"
    }
   ],
   "source": [
    "df1.head()"
   ]
  },
  {
   "cell_type": "code",
   "execution_count": 12,
   "metadata": {},
   "outputs": [
    {
     "name": "stdout",
     "output_type": "stream",
     "text": [
      "Bootstrap mean of Duration: 0.43270909528508605\n",
      "95% CI for Mean Duration: (np.float64(0.44245287539648026), np.float64(0.42357441169877136))\n",
      "Bootstrap std of Duration: 0.09784846899259866\n",
      "95% CI for std Duration: (np.float64(-1.9522872136279104), np.float64(1.811590446231109))\n"
     ]
    }
   ],
   "source": [
    "def bootstrap_Type1(df1, B1, alpha):\n",
    "\n",
    "    n1 = len(df1)\n",
    "    X_bar = np.mean(df1['Duration'])\n",
    "    St_Dev = np.std(df1['Duration'])\n",
    "\n",
    "    # Initialize empty arrays for bootstrap quantities\n",
    "    X_star_bar = np.empty(B1)\n",
    "    X_star_sd = np.empty(B1)\n",
    "    Q_star = np.empty(B1)\n",
    "\n",
    "    # bootstrapping\n",
    "    for b in range(B1):\n",
    "        J1 = np.random.choice(np.arange(n1), size=n1, replace=True)\n",
    "        X_star = df1['Duration'].iloc[J1] # Construct the bootstrap sample\n",
    "        X_star_bar[b] = np.mean(X_star) # Calculate the bootstrap sample mean\n",
    "        X_star_sd[b] = np.std(X_star) # Calculate the bootstrap sample variance\n",
    "        Q_star[b] = np.sqrt(n1) * (X_star_bar[b] - X_bar) / X_star_sd[b] # Calculate the bootstrap quantity\n",
    "\n",
    "    # Critical values\n",
    "    cv_LB = np.quantile(Q_star, alpha / 2)\n",
    "    cv_UB = np.quantile(Q_star, 1 - alpha / 2)\n",
    "\n",
    "    # Confidence interval\n",
    "    CI_LB = X_bar - cv_LB * St_Dev / np.sqrt(n1)\n",
    "    CI_UP = X_bar - cv_UB * St_Dev / np.sqrt(n1)\n",
    "\n",
    "    results = {\n",
    "        \"Bootstrap mean of Duration\": np.mean(X_star_bar),\n",
    "        \"95% CI for Mean Duration\": (CI_LB, CI_UP),\n",
    "        \"Bootstrap std of Duration\": np.mean(X_star_sd) ,\n",
    "        \"95% CI for std Duration\": (cv_LB, cv_UB)\n",
    "    }\n",
    "    \n",
    "    return results\n",
    "\n",
    "results = bootstrap_Type1(df1, B1=499, alpha=0.05)\n",
    "for key, value in results.items():\n",
    "    print(f\"{key}: {value}\")"
   ]
  },
  {
   "cell_type": "markdown",
   "metadata": {},
   "source": [
    "# Type 2"
   ]
  },
  {
   "cell_type": "code",
   "execution_count": null,
   "metadata": {},
   "outputs": [],
   "source": []
  },
  {
   "cell_type": "code",
   "execution_count": null,
   "metadata": {},
   "outputs": [],
   "source": []
  }
 ],
 "metadata": {
  "kernelspec": {
   "display_name": "3.9.18",
   "language": "python",
   "name": "python3"
  },
  "language_info": {
   "codemirror_mode": {
    "name": "ipython",
    "version": 3
   },
   "file_extension": ".py",
   "mimetype": "text/x-python",
   "name": "python",
   "nbconvert_exporter": "python",
   "pygments_lexer": "ipython3",
   "version": "3.9.18"
  }
 },
 "nbformat": 4,
 "nbformat_minor": 2
}
