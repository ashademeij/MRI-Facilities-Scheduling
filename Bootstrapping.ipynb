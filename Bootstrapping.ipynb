{
 "cells": [
  {
   "cell_type": "code",
   "execution_count": 1,
   "metadata": {},
   "outputs": [],
   "source": [
    "import pandas as pd\n",
    "import numpy as np\n",
    "import matplotlib.pyplot as plt\n",
    "import seaborn as sns\n",
    "import scipy.stats as stats\n",
    "from scipy.stats import norm, jarque_bera, kstest, gamma, expon"
   ]
  },
  {
   "cell_type": "markdown",
   "metadata": {},
   "source": [
    "# 1. Parametric: Bootstrapping"
   ]
  },
  {
   "cell_type": "code",
   "execution_count": 2,
   "metadata": {},
   "outputs": [
    {
     "name": "stdout",
     "output_type": "stream",
     "text": [
      "Shape of df:  (618, 4)\n"
     ]
    },
    {
     "data": {
      "text/html": [
       "<div>\n",
       "<style scoped>\n",
       "    .dataframe tbody tr th:only-of-type {\n",
       "        vertical-align: middle;\n",
       "    }\n",
       "\n",
       "    .dataframe tbody tr th {\n",
       "        vertical-align: top;\n",
       "    }\n",
       "\n",
       "    .dataframe thead th {\n",
       "        text-align: right;\n",
       "    }\n",
       "</style>\n",
       "<table border=\"1\" class=\"dataframe\">\n",
       "  <thead>\n",
       "    <tr style=\"text-align: right;\">\n",
       "      <th></th>\n",
       "      <th>Date</th>\n",
       "      <th>Time</th>\n",
       "      <th>Duration</th>\n",
       "      <th>PatientType</th>\n",
       "    </tr>\n",
       "  </thead>\n",
       "  <tbody>\n",
       "    <tr>\n",
       "      <th>0</th>\n",
       "      <td>2023-08-01</td>\n",
       "      <td>8.23</td>\n",
       "      <td>0.949176</td>\n",
       "      <td>Type 2</td>\n",
       "    </tr>\n",
       "    <tr>\n",
       "      <th>1</th>\n",
       "      <td>2023-08-01</td>\n",
       "      <td>8.49</td>\n",
       "      <td>0.479593</td>\n",
       "      <td>Type 1</td>\n",
       "    </tr>\n",
       "    <tr>\n",
       "      <th>2</th>\n",
       "      <td>2023-08-01</td>\n",
       "      <td>9.12</td>\n",
       "      <td>0.496112</td>\n",
       "      <td>Type 2</td>\n",
       "    </tr>\n",
       "    <tr>\n",
       "      <th>3</th>\n",
       "      <td>2023-08-01</td>\n",
       "      <td>10.26</td>\n",
       "      <td>0.691947</td>\n",
       "      <td>Type 2</td>\n",
       "    </tr>\n",
       "    <tr>\n",
       "      <th>4</th>\n",
       "      <td>2023-08-01</td>\n",
       "      <td>10.64</td>\n",
       "      <td>0.345412</td>\n",
       "      <td>Type 1</td>\n",
       "    </tr>\n",
       "  </tbody>\n",
       "</table>\n",
       "</div>"
      ],
      "text/plain": [
       "        Date   Time  Duration PatientType\n",
       "0 2023-08-01   8.23  0.949176      Type 2\n",
       "1 2023-08-01   8.49  0.479593      Type 1\n",
       "2 2023-08-01   9.12  0.496112      Type 2\n",
       "3 2023-08-01  10.26  0.691947      Type 2\n",
       "4 2023-08-01  10.64  0.345412      Type 1"
      ]
     },
     "execution_count": 2,
     "metadata": {},
     "output_type": "execute_result"
    }
   ],
   "source": [
    "df = pd.read_csv(\"ScanRecords.csv\")\n",
    "df['Date'] = pd.to_datetime(df['Date'])\n",
    "print(\"Shape of df: \", df.shape)\n",
    "df.head()"
   ]
  },
  {
   "cell_type": "code",
   "execution_count": 3,
   "metadata": {},
   "outputs": [],
   "source": [
    "df1 = df[df[\"PatientType\"] == \"Type 1\"]\n",
    "df2 = df[df[\"PatientType\"] == \"Type 2\"]"
   ]
  },
  {
   "cell_type": "code",
   "execution_count": 4,
   "metadata": {},
   "outputs": [
    {
     "name": "stdout",
     "output_type": "stream",
     "text": [
      "             count      mean       std       min       25%       50%  \\\n",
      "PatientType                                                            \n",
      "Type 1       379.0  0.432661  0.097774  0.093731  0.368123  0.435888   \n",
      "Type 2       239.0  0.669339  0.187286  0.220708  0.523962  0.646603   \n",
      "\n",
      "                  75%       max  \n",
      "PatientType                      \n",
      "Type 1       0.496907  0.708922  \n",
      "Type 2       0.796523  1.146789  \n"
     ]
    }
   ],
   "source": [
    "print(df.groupby('PatientType')['Duration'].describe())  "
   ]
  },
  {
   "cell_type": "markdown",
   "metadata": {},
   "source": [
    "## Type 1"
   ]
  },
  {
   "cell_type": "markdown",
   "metadata": {},
   "source": [
    "## 1.1. Duration (Normal)"
   ]
  },
  {
   "cell_type": "code",
   "execution_count": 23,
   "metadata": {},
   "outputs": [
    {
     "data": {
      "text/html": [
       "<div>\n",
       "<style scoped>\n",
       "    .dataframe tbody tr th:only-of-type {\n",
       "        vertical-align: middle;\n",
       "    }\n",
       "\n",
       "    .dataframe tbody tr th {\n",
       "        vertical-align: top;\n",
       "    }\n",
       "\n",
       "    .dataframe thead th {\n",
       "        text-align: right;\n",
       "    }\n",
       "</style>\n",
       "<table border=\"1\" class=\"dataframe\">\n",
       "  <thead>\n",
       "    <tr style=\"text-align: right;\">\n",
       "      <th></th>\n",
       "      <th>Date</th>\n",
       "      <th>Time</th>\n",
       "      <th>Duration</th>\n",
       "      <th>PatientType</th>\n",
       "    </tr>\n",
       "  </thead>\n",
       "  <tbody>\n",
       "    <tr>\n",
       "      <th>1</th>\n",
       "      <td>2023-08-01</td>\n",
       "      <td>8.49</td>\n",
       "      <td>0.479593</td>\n",
       "      <td>Type 1</td>\n",
       "    </tr>\n",
       "    <tr>\n",
       "      <th>4</th>\n",
       "      <td>2023-08-01</td>\n",
       "      <td>10.64</td>\n",
       "      <td>0.345412</td>\n",
       "      <td>Type 1</td>\n",
       "    </tr>\n",
       "    <tr>\n",
       "      <th>5</th>\n",
       "      <td>2023-08-01</td>\n",
       "      <td>11.07</td>\n",
       "      <td>0.422270</td>\n",
       "      <td>Type 1</td>\n",
       "    </tr>\n",
       "    <tr>\n",
       "      <th>6</th>\n",
       "      <td>2023-08-01</td>\n",
       "      <td>11.13</td>\n",
       "      <td>0.356129</td>\n",
       "      <td>Type 1</td>\n",
       "    </tr>\n",
       "    <tr>\n",
       "      <th>8</th>\n",
       "      <td>2023-08-01</td>\n",
       "      <td>11.56</td>\n",
       "      <td>0.423303</td>\n",
       "      <td>Type 1</td>\n",
       "    </tr>\n",
       "  </tbody>\n",
       "</table>\n",
       "</div>"
      ],
      "text/plain": [
       "        Date   Time  Duration PatientType\n",
       "1 2023-08-01   8.49  0.479593      Type 1\n",
       "4 2023-08-01  10.64  0.345412      Type 1\n",
       "5 2023-08-01  11.07  0.422270      Type 1\n",
       "6 2023-08-01  11.13  0.356129      Type 1\n",
       "8 2023-08-01  11.56  0.423303      Type 1"
      ]
     },
     "execution_count": 23,
     "metadata": {},
     "output_type": "execute_result"
    }
   ],
   "source": [
    "df1.head()"
   ]
  },
  {
   "cell_type": "code",
   "execution_count": 25,
   "metadata": {},
   "outputs": [
    {
     "name": "stdout",
     "output_type": "stream",
     "text": [
      "Bootstrap mean of Duration: 0.43252118884419655\n",
      "95% CI for Mean Duration: (np.float64(0.4420646488477063), np.float64(0.42306011545002176))\n",
      "Bootstrap std of Duration: 0.09741698230455403\n",
      "95% CI for std Duration: (np.float64(-1.8748848753183738), np.float64(1.9141278238596104))\n"
     ]
    }
   ],
   "source": [
    "def bootstrap_Type1(df1, B1, alpha):\n",
    "\n",
    "    n1 = len(df1)\n",
    "    X_bar = np.mean(df1['Duration'])\n",
    "    St_Dev = np.std(df1['Duration'])\n",
    "\n",
    "    # Initialize empty arrays for bootstrap quantities\n",
    "    X_star_bar = np.empty(B1)\n",
    "    X_star_sd = np.empty(B1)\n",
    "    Q_star = np.empty(B1)\n",
    "\n",
    "    # bootstrapping\n",
    "    for b in range(B1):\n",
    "        J1 = np.random.choice(np.arange(n1), size=n1, replace=True) # Resampling with replacement\n",
    "        X_star = df1['Duration'].iloc[J1] # Construct the bootstrap sample\n",
    "        X_star_bar[b] = np.mean(X_star) # Calculate the bootstrap sample mean\n",
    "        X_star_sd[b] = np.std(X_star) # Calculate the bootstrap sample variance\n",
    "        Q_star[b] = np.sqrt(n1) * (X_star_bar[b] - X_bar) / X_star_sd[b] # Calculate the bootstrap quantity\n",
    "\n",
    "    # Critical values\n",
    "    cv_LB = np.quantile(Q_star, alpha / 2)\n",
    "    cv_UB = np.quantile(Q_star, 1 - alpha / 2)\n",
    "\n",
    "    # Confidence interval\n",
    "    CI_LB = X_bar - cv_LB * St_Dev / np.sqrt(n1)\n",
    "    CI_UP = X_bar - cv_UB * St_Dev / np.sqrt(n1)\n",
    "\n",
    "    results = {\n",
    "        \"Bootstrap mean of Duration\": np.mean(X_star_bar),\n",
    "        \"95% CI for Mean Duration\": (CI_LB, CI_UP),\n",
    "        \"Bootstrap std of Duration\": np.mean(X_star_sd) ,\n",
    "        \"95% CI for std Duration\": (cv_LB, cv_UB)\n",
    "    }\n",
    "    \n",
    "    return results\n",
    "\n",
    "results = bootstrap_Type1(df1, B1=499, alpha=0.05)\n",
    "for key, value in results.items():\n",
    "    print(f\"{key}: {value}\")"
   ]
  },
  {
   "cell_type": "code",
   "execution_count": null,
   "metadata": {},
   "outputs": [],
   "source": [
    "## TODO: ADD QUANTILES W CI"
   ]
  },
  {
   "cell_type": "markdown",
   "metadata": {},
   "source": [
    "## 1.2. Mean Interarrival time (exponential)"
   ]
  },
  {
   "cell_type": "code",
   "execution_count": 30,
   "metadata": {},
   "outputs": [
    {
     "name": "stdout",
     "output_type": "stream",
     "text": [
      "Mean Inter-arrival time:  0.5453439153439154\n"
     ]
    }
   ],
   "source": [
    "numRows = len(df1)\n",
    "interArrivals1 = []\n",
    "\n",
    "for i in range(numRows - 1):\n",
    "    if df1.iloc[i][\"Date\"] == df1.iloc[i + 1][\"Date\"]:\n",
    "        # interaarival time of arrivals on the same day\n",
    "        interval = df1.iloc[i + 1][\"Time\"] - df1.iloc[i][\"Time\"]\n",
    "    else:\n",
    "        interval = (17 - df1.iloc[i][\"Time\"]) + (df1.iloc[i + 1][\"Time\"] - 8)\n",
    "    interArrivals1.append(interval)\n",
    "\n",
    "interArrivals1 = np.array(interArrivals1)\n",
    "\n",
    "print(\"Mean Inter-arrival time: \", np.mean(interArrivals1))"
   ]
  },
  {
   "cell_type": "code",
   "execution_count": null,
   "metadata": {},
   "outputs": [
    {
     "name": "stdout",
     "output_type": "stream",
     "text": [
      "Bootstrap mean of interArrivals: 0.5446245400854618\n",
      "95% CI for Mean interArrivals: (np.float64(0.6203758653854785), np.float64(0.4895444229586992))\n",
      "Bootstrap std of interArrivals: 0.5795309007316473\n",
      "95% CI for std interArrivals: (np.float64(-2.50422752248658), np.float64(1.8623349718944266))\n"
     ]
    }
   ],
   "source": [
    "def bootstrap_Type1(interArrivals, B1, alpha):\n",
    "\n",
    "    n1 = len(interArrivals)\n",
    "    X_bar = np.mean(interArrivals)\n",
    "    St_Dev = np.std(interArrivals)\n",
    "\n",
    "    # empty arrays for bootstrap quantities\n",
    "    X_star_bar = np.empty(B1)\n",
    "    X_star_sd = np.empty(B1)\n",
    "    Q_star = np.empty(B1)\n",
    "\n",
    "    # bootstrapping\n",
    "    for b in range(B1):\n",
    "        J1 = np.random.choice(np.arange(n1), size=n1, replace=True) # Resampling with replacement\n",
    "        X_star = interArrivals[J1] # Construct the bootstrap sample\n",
    "        X_star_bar[b] = np.mean(X_star) # Calculate the bootstrap sample mean\n",
    "        X_star_sd[b] = np.std(X_star) # Calculate the bootstrap sample variance\n",
    "        Q_star[b] = np.sqrt(n1) * (X_star_bar[b] - X_bar) / X_star_sd[b] # Calculate the bootstrap quantity\n",
    "\n",
    "    # Critical values\n",
    "    cv_LB = np.quantile(Q_star, alpha / 2)\n",
    "    cv_UB = np.quantile(Q_star, 1 - alpha / 2)\n",
    "\n",
    "    # Confidence interval\n",
    "    CI_LB = X_bar - cv_LB * St_Dev / np.sqrt(n1)\n",
    "    CI_UP = X_bar - cv_UB * St_Dev / np.sqrt(n1)\n",
    "\n",
    "    results = {\n",
    "        \"Bootstrap mean of interArrivals\": np.mean(X_star_bar),\n",
    "        \"95% CI for Mean interArrivals\": (CI_LB, CI_UP),\n",
    "        \"Bootstrap std of interArrivals\": np.mean(X_star_sd),\n",
    "        \"95% CI for std interArrivals\": (cv_LB, cv_UB)\n",
    "    }\n",
    "    \n",
    "    return results\n",
    "\n",
    "results = bootstrap_Type1(interArrivals1, B1=499, alpha=0.05)\n",
    "for key, value in results.items():\n",
    "    print(f\"{key}: {value}\")"
   ]
  },
  {
   "cell_type": "markdown",
   "metadata": {},
   "source": [
    "# 2. Type 2"
   ]
  },
  {
   "cell_type": "markdown",
   "metadata": {},
   "source": [
    "## 2.1. Duration (Gamma)"
   ]
  },
  {
   "cell_type": "code",
   "execution_count": 11,
   "metadata": {},
   "outputs": [
    {
     "name": "stdout",
     "output_type": "stream",
     "text": [
      "12.584814582926688\n",
      "0.05318623207452434\n"
     ]
    }
   ],
   "source": [
    "shape_b, loc_b, scale_b = gamma.fit(df2['Duration'], floc=0) \n",
    "print(shape_b)\n",
    "print(scale_b)"
   ]
  },
  {
   "cell_type": "code",
   "execution_count": 31,
   "metadata": {},
   "outputs": [
    {
     "name": "stdout",
     "output_type": "stream",
     "text": [
      "Rejection: 3.5999999999999996%\n",
      "Bootstrap Confidence Interval for Shape: (10.6488, 14.5411)\n",
      "Bootstrap Confidence Interval for Scale: (0.0469, 0.0645)\n",
      "Confidence Interval for Mean: (0.6585, 0.7080)\n"
     ]
    }
   ],
   "source": [
    "# Set the seed\n",
    "np.random.seed(515)\n",
    "\n",
    "data = df2['Duration'].values  \n",
    "\n",
    "# Parameters\n",
    "nr_sim = 1000  # Number of simulations\n",
    "B = 499  # Number of bootstrap replications\n",
    "n2 = len(data)  # Sample size\n",
    "alpha = 0.05  # Nominal level of the test\n",
    "reject = np.zeros(nr_sim)  # Vector to store rejections\n",
    "\n",
    "# initial statistic\n",
    "xbar = np.mean(data)\n",
    "std = np.std(data, ddof=1)\n",
    "\n",
    "# mc simulation\n",
    "for i in range(nr_sim):\n",
    "\n",
    "    X = np.random.choice(data, size=n2, replace=True)  # Draw X from the actual data with replacement\n",
    "\n",
    "    X_bar = np.mean(X)  # Sample mean of X\n",
    "    St_Dev = np.std(X, ddof=1)  # Standard deviation of X (ddof=1 for sample std)\n",
    "    Q = np.sqrt(n2) * (X_bar - xbar) / St_Dev  # Test statistic\n",
    "\n",
    "    # Empty arrays for bootstrap quantities\n",
    "    Q_star = np.empty(B)\n",
    "    gamma_shape = np.empty(B)\n",
    "    gamma_scale = np.empty(B)\n",
    "\n",
    "    for b in range(B):\n",
    "        J = np.random.choice(n2, size=n2, replace=True)  # Draw the indices J\n",
    "        X_star = X[J]  # Draw the bootstrap sample\n",
    "        \n",
    "        # Bootstrap sample statistics\n",
    "        X_bar_star = np.mean(X_star)  # Bootstrap sample mean\n",
    "        St_Dev_star = np.std(X_star, ddof=1)  # Bootstrap standard deviation\n",
    "        Q_star[b] = np.sqrt(n2) * (X_bar_star - X_bar) / St_Dev_star  # Bootstrap test statistic\n",
    "        \n",
    "        # Fit gamma distribution to bootstrap sample\n",
    "        shape_b, loc_b, scale_b = gamma.fit(X_star, floc=0)  # Fix location to 0\n",
    "        gamma_shape[b] = shape_b\n",
    "        gamma_scale[b] = scale_b\n",
    "\n",
    "    # Critical values\n",
    "    cv_star = np.quantile(Q_star, 1 - alpha)  # Bootstrap critical value\n",
    "    \n",
    "    cv_LB = np.quantile(Q_star, alpha / 2)  # Lower bound critical value\n",
    "    cv_UB = np.quantile(Q_star, 1 - alpha / 2)  # Upper bound critical value\n",
    "\n",
    "    # Confidence interval\n",
    "    CI_LB = X_bar - cv_UB * std / np.sqrt(n2)\n",
    "    CI_UP = X_bar - cv_LB * std / np.sqrt(n2)\n",
    "\n",
    "\n",
    "    # Step 3: Evaluate\n",
    "    if Q < cv_LB or Q > cv_UB:  # Two-sided test:\n",
    "        reject[i] = 1  # Check if the null hypothesis is rejected\n",
    "\n",
    "ERF = np.mean(reject)  # Empirical rejection frequency\n",
    "\n",
    "# Bootstrap Confidence Intervals for Gamma Shape and Scale\n",
    "shape_CI = np.percentile(gamma_shape, [alpha / 2 * 100, (1 - alpha / 2) * 100])\n",
    "scale_CI = np.percentile(gamma_scale, [alpha / 2 * 100, (1 - alpha / 2) * 100])\n",
    "\n",
    "# Output\n",
    "print(f\"Rejection: {100 * ERF:}%\")\n",
    "print(f\"Bootstrap Confidence Interval for Shape: ({shape_CI[0]:.4f}, {shape_CI[1]:.4f})\")\n",
    "print(f\"Bootstrap Confidence Interval for Scale: ({scale_CI[0]:.4f}, {scale_CI[1]:.4f})\")\n",
    "print(f\"Confidence Interval for Mean: ({CI_LB:.4f}, {CI_UP:.4f})\")\n"
   ]
  },
  {
   "cell_type": "code",
   "execution_count": 21,
   "metadata": {},
   "outputs": [
    {
     "name": "stdout",
     "output_type": "stream",
     "text": [
      "Simulation 1000: Bootstrap Gamma Shape: 12.3905, Scale: 0.0556\n"
     ]
    }
   ],
   "source": [
    "print(f\"Simulation {i + 1}: Bootstrap Gamma Shape: {np.mean(gamma_shape):.4f}, Scale: {np.mean(gamma_scale):.4f}\")"
   ]
  },
  {
   "cell_type": "markdown",
   "metadata": {},
   "source": [
    "## 2.2. Interarrival (Normal)"
   ]
  },
  {
   "cell_type": "code",
   "execution_count": 5,
   "metadata": {},
   "outputs": [],
   "source": [
    "numRows = len(df2)\n",
    "interArrivals2 = []\n",
    "\n",
    "for i in range(numRows - 1):\n",
    "    if df2.iloc[i][\"Date\"] == df2.iloc[i + 1][\"Date\"]:\n",
    "        # interaarival time of arrivals on the same day\n",
    "        interval = df2.iloc[i + 1][\"Time\"] - df2.iloc[i][\"Time\"]\n",
    "    else:\n",
    "        interval = (17 - df2.iloc[i][\"Time\"]) + (df2.iloc[i + 1][\"Time\"] - 8)\n",
    "    interArrivals2.append(interval)\n",
    "\n",
    "interArrivals2 = np.array(interArrivals2)"
   ]
  },
  {
   "cell_type": "code",
   "execution_count": null,
   "metadata": {},
   "outputs": [],
   "source": [
    "# Define the Monte Carlo simulation for Type 2 patients\n",
    "def monte_carlo_Type2(n, alpha, mu, gamma_shape, gamma_scale, nr_sim):\n",
    "    np.random.seed(515)  # Set the seed for reproducibility\n",
    "\n",
    "    reject_n = np.zeros(nr_sim)  # Store rejections for normal critical value\n",
    "    reject_t = np.zeros(nr_sim)  # Store rejections for t critical value\n",
    "\n",
    "    for i in range(nr_sim):\n",
    "        # Step 1: Simulate\n",
    "        X = np.random.gamma(shape=gamma_shape, scale=gamma_scale, size=n)  # Gamma-distributed random values\n",
    "\n",
    "        # Step 2: Apply\n",
    "        X_bar = np.mean(X)  # Sample mean of X\n",
    "        St_Dev = np.std(X)  # Standard deviation of X\n",
    "        Q_n = np.sqrt(n) * X_bar / St_Dev  # Test statistic\n",
    "\n",
    "        cv_n = np.quantile(np.random.normal(0, 1, 10000), 1 - alpha)  # Normal critical value\n",
    "        cv_t = np.quantile(np.random.standard_t(df=n - 1, size=10000), 1 - alpha)  # t critical value\n",
    "\n",
    "        # Step 3: Evaluate\n",
    "        if Q_n > cv_n:\n",
    "            reject_n[i] = 1  # Reject using normal critical value\n",
    "        if Q_n > cv_t:\n",
    "            reject_t[i] = 1  # Reject using t critical value\n",
    "\n",
    "    results = {\n",
    "        \"Rejection rate (Normal critical value)\": np.mean(reject_n),\n",
    "        \"Rejection rate (t critical value)\": np.mean(reject_t)\n",
    "    }\n",
    "\n",
    "    return results\n",
    "\n",
    "\n",
    "# Example usage for Type 2 patients\n",
    "gamma_shape = 2  # Example shape parameter for gamma distribution\n",
    "gamma_scale = 1  # Example scale parameter for gamma distribution\n",
    "results_type2 = monte_carlo_Type2(nr_sim=5000, n=100, alpha=0.05, mu=0, gamma_shape=gamma_shape, gamma_scale=gamma_scale)\n",
    "for key, value in results_type2.items():\n",
    "    print(f\"{key}: {value}\")\n"
   ]
  },
  {
   "cell_type": "code",
   "execution_count": null,
   "metadata": {},
   "outputs": [],
   "source": [
    "# Fit a gamma distribution to the data\n",
    "gamma_params = gamma.fit(interArrivals2, floc=0)  # floc=0 fixes the location parameter to 0\n",
    "gamma_shape, loc, gamma_scale = gamma_params # shape = alpha, scale = beta\n",
    "\n",
    "print(f\"MLE gamma_shape: {gamma_shape}\")\n",
    "print(f\"MLE gamma_scale: {gamma_scale}\")\n"
   ]
  },
  {
   "cell_type": "code",
   "execution_count": null,
   "metadata": {},
   "outputs": [],
   "source": []
  },
  {
   "cell_type": "code",
   "execution_count": null,
   "metadata": {},
   "outputs": [],
   "source": []
  },
  {
   "cell_type": "code",
   "execution_count": 27,
   "metadata": {},
   "outputs": [
    {
     "name": "stdout",
     "output_type": "stream",
     "text": [
      "Rejection occurred in 3.30% of the cases.\n",
      "Avg duration: 0.684425\n",
      "SD duration: 0.192227\n",
      "Avg gamma shape: 12.390541\n",
      "Avg gamma rate: 18.105685\n",
      "CI for duration (lower): 0.643840\n",
      "CI for duration (upper): 0.693361\n"
     ]
    }
   ],
   "source": [
    "import numpy as np\n",
    "from scipy.stats import gamma\n",
    "from scipy.stats import bootstrap\n",
    "from scipy.stats import describe\n",
    "\n",
    "# Set seed\n",
    "np.random.seed(515)\n",
    "\n",
    "# Data and parameters\n",
    "data = df2['Duration'].values  # Assuming this is a pandas DataFrame\n",
    "nr_sim = 1000  # Number of Monte Carlo simulations\n",
    "B1 = 499  # Number of bootstrap replications\n",
    "n2 = len(data)  # Sample size\n",
    "alpha = 0.05  # Nominal level of the test\n",
    "\n",
    "# Initial statistics\n",
    "X_bar3 = np.mean(data)\n",
    "St_Dev3 = np.std(data, ddof=1)\n",
    "\n",
    "# Pre-allocate arrays\n",
    "X_star_bar3 = np.empty(B1)\n",
    "X_star_sd3 = np.empty(B1)\n",
    "X_star_gamma_shape = np.empty(B1)\n",
    "X_star_gamma_rate = np.empty(B1)\n",
    "\n",
    "CI_lower1 = np.empty(nr_sim)\n",
    "CI_upper1 = np.empty(nr_sim)\n",
    "reject1 = np.zeros(nr_sim)\n",
    "\n",
    "# Monte Carlo simulation\n",
    "for m in range(nr_sim):\n",
    "    indices = np.random.choice(n2, size=n2, replace=True)  # Sample indices with replacement\n",
    "    sim_sample = data[indices]  # Simulate sample\n",
    "    sim_sample_mean = np.mean(sim_sample)\n",
    "    Q = np.sqrt(n2) * (sim_sample_mean - X_bar3) / np.std(sim_sample, ddof=1)\n",
    "\n",
    "    Q_star3 = np.empty(B1)  # Bootstrap test statistic array\n",
    "\n",
    "    # Bootstrap procedure\n",
    "    for b in range(B1):\n",
    "        J3 = np.random.choice(n2, size=n2, replace=True)  # Bootstrap sample indices\n",
    "        X_star3 = sim_sample[J3]  # Bootstrap sample\n",
    "        X_star_bar3[b] = np.mean(X_star3)\n",
    "        X_star_sd3[b] = np.std(X_star3, ddof=1)\n",
    "        fit_gamma_star_shape, fit_gamma_star_loc, fit_gamma_star_scale = gamma.fit(X_star3, floc=0)\n",
    "        X_star_gamma_shape[b] = fit_gamma_star_shape\n",
    "        X_star_gamma_rate[b] = 1 / fit_gamma_star_scale\n",
    "        Q_star3[b] = np.sqrt(n2) * (X_star_bar3[b] - sim_sample_mean) / X_star_sd3[b]\n",
    "\n",
    "    # Critical values\n",
    "    cv_star_lower1 = np.quantile(Q_star3, alpha / 2)\n",
    "    cv_star_upper1 = np.quantile(Q_star3, 1 - alpha / 2)\n",
    "\n",
    "    # Confidence interval\n",
    "    CI_lower1[m] = sim_sample_mean - cv_star_upper1 * St_Dev3 / np.sqrt(n2)\n",
    "    CI_upper1[m] = sim_sample_mean - cv_star_lower1 * St_Dev3 / np.sqrt(n2)\n",
    "\n",
    "    # Rejection condition\n",
    "    if X_bar3 < CI_lower1[m] or X_bar3 > CI_upper1[m]:\n",
    "        reject1[m] = 1\n",
    "\n",
    "# Empirical rejection frequency\n",
    "ERF1 = np.mean(reject1)\n",
    "print(f\"Rejection occurred in {100 * ERF1:.2f}% of the cases.\")\n",
    "\n",
    "# Main bootstrap results\n",
    "t2_avg_duration = np.mean(X_star_bar3)\n",
    "t2_sd_duration = np.mean(X_star_sd3)\n",
    "\n",
    "t2_avg_gamma_shape = np.mean(X_star_gamma_shape)\n",
    "t2_avg_gamma_rate = np.mean(X_star_gamma_rate)\n",
    "\n",
    "print(f\"Avg duration: {t2_avg_duration:.6f}\")\n",
    "print(f\"SD duration: {t2_sd_duration:.6f}\")\n",
    "print(f\"Avg gamma shape: {t2_avg_gamma_shape:.6f}\")\n",
    "print(f\"Avg gamma rate: {t2_avg_gamma_rate:.6f}\")\n",
    "\n",
    "# Critical values\n",
    "cv_lower3 = np.quantile(Q_star3, alpha / 2)\n",
    "cv_upper3 = np.quantile(Q_star3, 1 - alpha / 2)\n",
    "\n",
    "# Confidence interval\n",
    "CI_dur_t2_lower = X_bar3 - cv_upper3 * St_Dev3 / np.sqrt(n2)\n",
    "CI_dur_t2_upper = X_bar3 - cv_lower3 * St_Dev3 / np.sqrt(n2)\n",
    "\n",
    "print(f\"CI for duration (lower): {CI_dur_t2_lower:.6f}\")\n",
    "print(f\"CI for duration (upper): {CI_dur_t2_upper:.6f}\")\n"
   ]
  },
  {
   "cell_type": "code",
   "execution_count": 28,
   "metadata": {},
   "outputs": [
    {
     "name": "stdout",
     "output_type": "stream",
     "text": [
      "Rejection occurred in 3.60% of the cases.\n",
      "Bootstrap Confidence Interval for Shape: (10.6488, 14.5411)\n",
      "Bootstrap Confidence Interval for Scale: (0.0469, 0.0645)\n",
      "Confidence Interval for Mean: (0.6585, 0.7080)\n"
     ]
    }
   ],
   "source": [
    "import numpy as np\n",
    "from scipy.stats import gamma\n",
    "\n",
    "# Set the seed\n",
    "np.random.seed(515)\n",
    "\n",
    "data = df2['Duration'].values  # Assuming df2 is a pandas DataFrame\n",
    "\n",
    "# Parameters\n",
    "nr_sim = 1000  # Number of simulations\n",
    "B = 499  # Number of bootstrap replications\n",
    "n2 = len(data)  # Sample size\n",
    "alpha = 0.05  # Nominal level of the test\n",
    "reject = np.zeros(nr_sim)  # Vector to store rejections\n",
    "\n",
    "# Initial statistics\n",
    "xbar = np.mean(data)\n",
    "std = np.std(data, ddof=1)\n",
    "\n",
    "# Start the simulations\n",
    "for i in range(nr_sim):\n",
    "    # Generate a bootstrap sample\n",
    "    X = np.random.choice(data, size=n2, replace=True)\n",
    "\n",
    "    # Calculate sample mean and standard deviation\n",
    "    X_bar = np.mean(X)\n",
    "    St_Dev = np.std(X, ddof=1)\n",
    "\n",
    "    # Calculate the test statistic\n",
    "    Q = np.sqrt(n2) * (X_bar - xbar) / St_Dev\n",
    "\n",
    "    # Empty arrays for bootstrap quantities\n",
    "    Q_star = np.empty(B)\n",
    "    gamma_shape = np.empty(B)\n",
    "    gamma_scale = np.empty(B)\n",
    "\n",
    "    # Bootstrap procedure\n",
    "    for b in range(B):\n",
    "        # Generate a bootstrap sample from X\n",
    "        J = np.random.choice(n2, size=n2, replace=True)\n",
    "        X_star = X[J]\n",
    "\n",
    "        # Calculate bootstrap sample statistics\n",
    "        X_bar_star = np.mean(X_star)\n",
    "        St_Dev_star = np.std(X_star, ddof=1)\n",
    "        Q_star[b] = np.sqrt(n2) * (X_bar_star - X_bar) / St_Dev_star\n",
    "\n",
    "        # Fit gamma distribution to the bootstrap sample\n",
    "        shape_b, loc_b, scale_b = gamma.fit(X_star, floc=0)  # Fix location to 0\n",
    "        gamma_shape[b] = shape_b\n",
    "        gamma_scale[b] = scale_b\n",
    "\n",
    "    # Critical values\n",
    "    cv_LB = np.quantile(Q_star, alpha / 2)  # Lower bound critical value\n",
    "    cv_UB = np.quantile(Q_star, 1 - alpha / 2)  # Upper bound critical value\n",
    "\n",
    "    # Confidence interval for the mean\n",
    "    CI_LB = X_bar - cv_UB * std / np.sqrt(n2)\n",
    "    CI_UP = X_bar - cv_LB * std / np.sqrt(n2)\n",
    "\n",
    "    # Two-sided hypothesis test\n",
    "    if Q < cv_LB or Q > cv_UB:\n",
    "        reject[i] = 1  # Reject the null hypothesis\n",
    "\n",
    "# Empirical rejection frequency\n",
    "ERF = np.mean(reject)\n",
    "\n",
    "# Bootstrap Confidence Intervals for Gamma Shape and Scale\n",
    "shape_CI = np.percentile(gamma_shape, [alpha / 2 * 100, (1 - alpha / 2) * 100])\n",
    "scale_CI = np.percentile(gamma_scale, [alpha / 2 * 100, (1 - alpha / 2) * 100])\n",
    "\n",
    "# Output\n",
    "print(f\"Rejection occurred in {100 * ERF:.2f}% of the cases.\")\n",
    "print(f\"Bootstrap Confidence Interval for Shape: ({shape_CI[0]:.4f}, {shape_CI[1]:.4f})\")\n",
    "print(f\"Bootstrap Confidence Interval for Scale: ({scale_CI[0]:.4f}, {scale_CI[1]:.4f})\")\n",
    "print(f\"Confidence Interval for Mean: ({CI_LB:.4f}, {CI_UP:.4f})\")\n"
   ]
  }
 ],
 "metadata": {
  "kernelspec": {
   "display_name": "3.9.18",
   "language": "python",
   "name": "python3"
  },
  "language_info": {
   "codemirror_mode": {
    "name": "ipython",
    "version": 3
   },
   "file_extension": ".py",
   "mimetype": "text/x-python",
   "name": "python",
   "nbconvert_exporter": "python",
   "pygments_lexer": "ipython3",
   "version": "3.9.18"
  }
 },
 "nbformat": 4,
 "nbformat_minor": 2
}
