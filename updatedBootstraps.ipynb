{
 "cells": [
  {
   "cell_type": "code",
   "execution_count": 1,
   "metadata": {},
   "outputs": [],
   "source": [
    "import numpy as np\n",
    "import matplotlib.pyplot as plt\n",
    "import pandas as pd"
   ]
  },
  {
   "cell_type": "code",
   "execution_count": 2,
   "metadata": {},
   "outputs": [],
   "source": [
    "df = pd.read_csv(\"ScanRecords.csv\")\n",
    "df['Date'] = pd.to_datetime(df['Date'])\n",
    "df1 = df[df[\"PatientType\"] == \"Type 1\"]\n",
    "df2 = df[df[\"PatientType\"] == \"Type 2\"]"
   ]
  },
  {
   "cell_type": "markdown",
   "metadata": {},
   "source": [
    "# Type 1"
   ]
  },
  {
   "cell_type": "code",
   "execution_count": 3,
   "metadata": {},
   "outputs": [
    {
     "name": "stdout",
     "output_type": "stream",
     "text": [
      "Bootstrap mean of Duration: 25.959161825682816\n",
      "95% CI for Mean Duration: (np.float64(25.362994321596993), np.float64(26.550661222688273))\n",
      "Bootstrap std of Variance: 0.5712553802951649\n",
      "95% CI for std Variance: (np.float64(0.4971193963500315), np.float64(0.6727786369350718))\n"
     ]
    }
   ],
   "source": [
    "# MEAN AND VARIANCE OF DURATION\n",
    "\n",
    "np.random.seed(515)\n",
    "B1 = 100000\n",
    "alpha = 0.05\n",
    "\n",
    "n = len(df1)\n",
    "\n",
    "X_bar = np.mean(df1['Duration'])\n",
    "St_Dev = np.std(df1['Duration'], ddof=1)\n",
    "\n",
    "# empty arrays for bootstrapped values\n",
    "X_star_bar = np.empty(B1)\n",
    "X_star_sd = np.empty(B1)\n",
    "Q_star = np.empty(B1)  # Statistic for variance\n",
    "T_star = np.empty(B1)  # Statistic for mean\n",
    "\n",
    "# Bootstrapping\n",
    "for b in range(B1):\n",
    "    J = np.random.choice(np.arange(n), size=n, replace=True)  # Resampling with replacement\n",
    "    X_star = df1['Duration'].iloc[J]  # Construct the bootstrap sample\n",
    "    X_star_bar[b] = np.mean(X_star)  # Calculate the bootstrap sample mean\n",
    "    X_star_sd[b] = np.std(X_star, ddof=1)  # Calculate the bootstrap sample standard deviation\n",
    "    T_star[b] = np.sqrt(n) * (X_star_bar[b] - X_bar) / X_star_sd[b]  # Calculate the T-statistic\n",
    "    Q_star[b] = (n - 1) * (X_star_sd[b]**2) / (St_Dev**2)  # Calculate the Q-statistic\n",
    "\n",
    "# Critical values for T-statistic and Q-statistic\n",
    "cv_LB_T = np.quantile(T_star, alpha / 2)\n",
    "cv_UB_T = np.quantile(T_star, 1 - alpha / 2)\n",
    "\n",
    "cv_LB_Q = np.quantile(Q_star, alpha / 2)\n",
    "cv_UB_Q = np.quantile(Q_star, 1 - alpha / 2)\n",
    "\n",
    "# Confidence interval for variance\n",
    "CI_LB_Q = (n - 1) * St_Dev**2 / cv_UB_Q\n",
    "CI_UB_Q = (n - 1) * St_Dev**2 / cv_LB_Q\n",
    "\n",
    "# Confidence interval for mean\n",
    "CI_LB_T = X_bar - cv_UB_T * St_Dev / np.sqrt(n)\n",
    "CI_UP_T = X_bar - cv_LB_T * St_Dev / np.sqrt(n)\n",
    "\n",
    "# Results\n",
    "results = {\n",
    "    \"Bootstrap mean of Duration\": np.mean(X_star_bar) * 60,\n",
    "    \"95% CI for Mean Duration\": (CI_LB_T * 60, CI_UP_T * 60),\n",
    "    \"Bootstrap std of Variance\": ((np.mean(X_star_sd)) ** 2 )* 60,\n",
    "    \"95% CI for std Variance\": (CI_LB_Q * 60, CI_UB_Q * 60),\n",
    "}\n",
    "\n",
    "# Print Results\n",
    "for key, value in results.items():\n",
    "    print(f\"{key}: {value}\")\n"
   ]
  },
  {
   "cell_type": "code",
   "execution_count": 4,
   "metadata": {},
   "outputs": [
    {
     "name": "stdout",
     "output_type": "stream",
     "text": [
      "Mean Inter-arrival time:  0.5453439153439154\n",
      "32.72063492063492 min\n"
     ]
    }
   ],
   "source": [
    "numRows = len(df1)\n",
    "interArrivals1 = []\n",
    "\n",
    "for i in range(numRows - 1):\n",
    "    if df1.iloc[i][\"Date\"] == df1.iloc[i + 1][\"Date\"]:\n",
    "        # interaarival time of arrivals on the same day\n",
    "        interval = df1.iloc[i + 1][\"Time\"] - df1.iloc[i][\"Time\"]\n",
    "    else:\n",
    "        interval = (17 - df1.iloc[i][\"Time\"]) + (df1.iloc[i + 1][\"Time\"] - 8)\n",
    "    interArrivals1.append(interval)\n",
    "\n",
    "interArrivals1 = np.array(interArrivals1)\n",
    "\n",
    "print(\"Mean Inter-arrival time: \", np.mean(interArrivals1))\n",
    "print( np.mean(interArrivals1)*60, \"min\")"
   ]
  },
  {
   "cell_type": "code",
   "execution_count": 9,
   "metadata": {},
   "outputs": [
    {
     "name": "stdout",
     "output_type": "stream",
     "text": [
      "Bootstrap mean interarrival time: 32.73159025396826\n",
      "95% CI for Mean interarrival time: (np.float64(29.413812475577068), np.float64(36.522848803529804))\n",
      "Bootstrap Variance of interarrival time: 20.304647903460648\n",
      "95% CI for Variance of interarrival time: (np.float64(16.334074258618422), np.float64(26.708241683100496))\n"
     ]
    }
   ],
   "source": [
    "# INTERARRIVAL TIME\n",
    "\n",
    "np.random.seed(515)\n",
    "B1 = 100000\n",
    "alpha = 0.05\n",
    "\n",
    "n = len(interArrivals1)\n",
    "\n",
    "X_bar = np.mean(interArrivals1)\n",
    "St_Dev = np.std(interArrivals1, ddof=1)\n",
    "\n",
    "# Initialize empty arrays for bootstrapped values\n",
    "X_star_bar = np.empty(B1)\n",
    "X_star_sd = np.empty(B1)\n",
    "Q_star = np.empty(B1)  # Statistic for variance\n",
    "T_star = np.empty(B1)  # Statistic for mean\n",
    "\n",
    "# Bootstrapping\n",
    "for b in range(B1):\n",
    "    J = np.random.choice(np.arange(n), size=n, replace=True)  # Resampling with replacement\n",
    "    X_star = interArrivals1[J]  # Construct the bootstrap sample\n",
    "    X_star_bar[b] = np.mean(X_star)  # Calculate the bootstrap sample mean\n",
    "    X_star_sd[b] = np.std(X_star, ddof=1)  # Calculate the bootstrap sample standard deviation\n",
    "    T_star[b] = np.sqrt(n) * (X_star_bar[b] - X_bar) / X_star_sd[b]  # Calculate the T-statistic\n",
    "    Q_star[b] = (n - 1) * (X_star_sd[b]**2) / (St_Dev**2)  # Calculate the Q-statistic\n",
    "\n",
    "# Critical values for T-statistic and Q-statistic\n",
    "cv_LB_T = np.quantile(T_star, alpha / 2)\n",
    "cv_UB_T = np.quantile(T_star, 1 - alpha / 2)\n",
    "\n",
    "cv_LB_Q = np.quantile(Q_star, alpha / 2)\n",
    "cv_UB_Q = np.quantile(Q_star, 1 - alpha / 2)\n",
    "\n",
    "# Confidence interval for variance\n",
    "CI_LB_Q = (n - 1) * St_Dev**2 / cv_UB_Q\n",
    "CI_UB_Q = (n - 1) * St_Dev**2 / cv_LB_Q\n",
    "\n",
    "# Confidence interval for mean\n",
    "CI_LB_T = X_bar - cv_UB_T * St_Dev / np.sqrt(n)\n",
    "CI_UP_T = X_bar - cv_LB_T * St_Dev / np.sqrt(n)\n",
    "\n",
    "# Results\n",
    "results = {\n",
    "    \"Bootstrap mean interarrival time\": np.mean(X_star_bar) * 60,\n",
    "    \"95% CI for Mean interarrival time\": (CI_LB_T * 60, CI_UP_T * 60),\n",
    "    \"Bootstrap Variance of interarrival time\": ((np.mean(X_star_sd)) ** 2 )* 60,\n",
    "    \"95% CI for Variance of interarrival time\": (CI_LB_Q * 60, CI_UB_Q * 60),\n",
    "}\n",
    "\n",
    "# Print Results\n",
    "for key, value in results.items():\n",
    "    print(f\"{key}: {value}\")\n",
    "\n"
   ]
  },
  {
   "cell_type": "markdown",
   "metadata": {},
   "source": [
    "# Type 2"
   ]
  },
  {
   "cell_type": "code",
   "execution_count": 6,
   "metadata": {},
   "outputs": [
    {
     "name": "stdout",
     "output_type": "stream",
     "text": [
      "Bootstrap mean of Duration: 40.16281591932623\n",
      "95% CI for Mean Duration: (np.float64(38.750817197086555), np.float64(41.62005085837455))\n",
      "Bootstrap std of Variance: 2.09244626856855\n",
      "95% CI for std Variance: (np.float64(1.8177422263788867), np.float64(2.4985252141756975))\n"
     ]
    }
   ],
   "source": [
    "# MEAN AND VARIANCE OF DURATION\n",
    "\n",
    "np.random.seed(515)\n",
    "B1 = 100000\n",
    "alpha = 0.05\n",
    "\n",
    "n = len(df2)\n",
    "\n",
    "X_bar = np.mean(df2['Duration'])\n",
    "St_Dev = np.std(df2['Duration'], ddof=1)\n",
    "\n",
    "# Initialize empty arrays for bootstrap values\n",
    "X_star_bar = np.empty(B1)\n",
    "X_star_sd = np.empty(B1)\n",
    "Q_star = np.empty(B1)  # Statistic for variance\n",
    "T_star = np.empty(B1)  # Statistic for mean\n",
    "\n",
    "# Bootstrapping\n",
    "for b in range(B1):\n",
    "    J = np.random.choice(np.arange(n), size=n, replace=True)  # Resampling with replacement\n",
    "    X_star = df2['Duration'].iloc[J]  # Construct the bootstrap sample\n",
    "    X_star_bar[b] = np.mean(X_star)  # Calculate the bootstrap sample mean\n",
    "    X_star_sd[b] = np.std(X_star, ddof=1)  # Calculate the bootstrap sample standard deviation\n",
    "    T_star[b] = np.sqrt(n) * (X_star_bar[b] - X_bar) / X_star_sd[b]  # Calculate the T-statistic\n",
    "    Q_star[b] = (n - 1) * (X_star_sd[b]**2) / (St_Dev**2)  # Calculate the Q-statistic\n",
    "\n",
    "# Critical values for T-statistic and Q-statistic\n",
    "cv_LB_T = np.quantile(T_star, alpha / 2)\n",
    "cv_UB_T = np.quantile(T_star, 1 - alpha / 2)\n",
    "\n",
    "cv_LB_Q = np.quantile(Q_star, alpha / 2)\n",
    "cv_UB_Q = np.quantile(Q_star, 1 - alpha / 2)\n",
    "\n",
    "# Confidence interval for variance\n",
    "CI_LB_Q = (n - 1) * St_Dev**2 / cv_UB_Q\n",
    "CI_UB_Q = (n - 1) * St_Dev**2 / cv_LB_Q\n",
    "\n",
    "# Confidence interval for mean\n",
    "CI_LB_T = X_bar - cv_UB_T * St_Dev / np.sqrt(n)\n",
    "CI_UP_T = X_bar - cv_LB_T * St_Dev / np.sqrt(n)\n",
    "\n",
    "# Results\n",
    "results = {\n",
    "    \"Bootstrap mean of Duration\": np.mean(X_star_bar) * 60,\n",
    "    \"95% CI for Mean Duration\": (CI_LB_T * 60, CI_UP_T * 60),\n",
    "    \"Bootstrap std of Variance\": ((np.mean(X_star_sd)) ** 2 )* 60,\n",
    "    \"95% CI for std Variance\": (CI_LB_Q * 60, CI_UB_Q * 60),\n",
    "}\n",
    "\n",
    "# Print Results\n",
    "for key, value in results.items():\n",
    "    print(f\"{key}: {value}\")\n"
   ]
  },
  {
   "cell_type": "code",
   "execution_count": 5,
   "metadata": {},
   "outputs": [
    {
     "name": "stdout",
     "output_type": "stream",
     "text": [
      "Mean Inter-arrival time:  0.8666386554621849\n",
      "51.998319327731096 min\n"
     ]
    }
   ],
   "source": [
    "numRows = len(df2)\n",
    "interArrivals2 = []\n",
    "\n",
    "for i in range(numRows - 1):\n",
    "    if df2.iloc[i][\"Date\"] == df2.iloc[i + 1][\"Date\"]:\n",
    "        # interaarival time of arrivals on the same day\n",
    "        interval = df2.iloc[i + 1][\"Time\"] - df2.iloc[i][\"Time\"]\n",
    "    else:\n",
    "        interval = (17 - df2.iloc[i][\"Time\"]) + (df2.iloc[i + 1][\"Time\"] - 8)\n",
    "    interArrivals2.append(interval)\n",
    "\n",
    "interArrivals2 = np.array(interArrivals2)\n",
    "\n",
    "print(\"Mean Inter-arrival time: \", np.mean(interArrivals2))\n",
    "print( np.mean(interArrivals2)*60, \"min\")"
   ]
  },
  {
   "cell_type": "code",
   "execution_count": 10,
   "metadata": {},
   "outputs": [
    {
     "name": "stdout",
     "output_type": "stream",
     "text": [
      "Bootstrap mean interarrival time: 51.99819768907564\n",
      "95% CI for Mean interarrival time: (np.float64(49.63299860602454), np.float64(54.39909823141045))\n",
      "Bootstrap Variance of interarrival time: 5.759607001575478\n",
      "95% CI for Variance of interarrival time: (np.float64(4.890567632535156), np.float64(7.052303462032274))\n"
     ]
    }
   ],
   "source": [
    "# INTERARRIVAL TIME:\n",
    "\n",
    "np.random.seed(515)\n",
    "B1 = 100000\n",
    "alpha = 0.05\n",
    "\n",
    "n = len(interArrivals2)\n",
    "\n",
    "# Mean and Standard Deviation of Original Data\n",
    "X_bar = np.mean(interArrivals2)\n",
    "St_Dev = np.std(interArrivals2, ddof=1)\n",
    "\n",
    "# Initialize empty arrays for bootstrap values\n",
    "X_star_bar = np.empty(B1)\n",
    "X_star_sd = np.empty(B1)\n",
    "Q_star = np.empty(B1)  # Statistic for variance\n",
    "T_star = np.empty(B1)  # Statistic for mean\n",
    "\n",
    "# Bootstrapping\n",
    "for b in range(B1):\n",
    "    J = np.random.choice(np.arange(n), size=n, replace=True)  # Resampling with replacement\n",
    "    X_star = interArrivals2[J]  # Construct the bootstrap sample\n",
    "    X_star_bar[b] = np.mean(X_star)  # Calculate the bootstrap sample mean\n",
    "    X_star_sd[b] = np.std(X_star, ddof=1)  # Calculate the bootstrap sample standard deviation\n",
    "    T_star[b] = np.sqrt(n) * (X_star_bar[b] - X_bar) / X_star_sd[b]  # Calculate the T-statistic\n",
    "    Q_star[b] = (n - 1) * (X_star_sd[b]**2) / (St_Dev**2)  # Calculate the Q-statistic\n",
    "\n",
    "# Critical values for T-statistic and Q-statistic\n",
    "cv_LB_T = np.quantile(T_star, alpha / 2)\n",
    "cv_UB_T = np.quantile(T_star, 1 - alpha / 2)\n",
    "\n",
    "cv_LB_Q = np.quantile(Q_star, alpha / 2)\n",
    "cv_UB_Q = np.quantile(Q_star, 1 - alpha / 2)\n",
    "\n",
    "# Confidence interval for variance\n",
    "CI_LB_Q = (n - 1) * St_Dev**2 / cv_UB_Q\n",
    "CI_UB_Q = (n - 1) * St_Dev**2 / cv_LB_Q\n",
    "\n",
    "# Confidence interval for mean\n",
    "CI_LB_T = X_bar - cv_UB_T * St_Dev / np.sqrt(n)\n",
    "CI_UP_T = X_bar - cv_LB_T * St_Dev / np.sqrt(n)\n",
    "\n",
    "# Results\n",
    "results = {\n",
    "    \"Bootstrap mean interarrival time\": np.mean(X_star_bar) * 60,\n",
    "    \"95% CI for Mean interarrival time\": (CI_LB_T * 60, CI_UP_T * 60),\n",
    "    \"Bootstrap Variance of interarrival time\": ((np.mean(X_star_sd)) ** 2 )* 60,\n",
    "    \"95% CI for Variance of interarrival time\": (CI_LB_Q * 60, CI_UB_Q * 60),\n",
    "}\n",
    "\n",
    "# Print Results\n",
    "for key, value in results.items():\n",
    "    print(f\"{key}: {value}\")\n"
   ]
  }
 ],
 "metadata": {
  "kernelspec": {
   "display_name": "3.9.18",
   "language": "python",
   "name": "python3"
  },
  "language_info": {
   "codemirror_mode": {
    "name": "ipython",
    "version": 3
   },
   "file_extension": ".py",
   "mimetype": "text/x-python",
   "name": "python",
   "nbconvert_exporter": "python",
   "pygments_lexer": "ipython3",
   "version": "3.9.18"
  }
 },
 "nbformat": 4,
 "nbformat_minor": 2
}
