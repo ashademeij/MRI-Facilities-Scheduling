{
 "cells": [
  {
   "cell_type": "code",
   "execution_count": 1,
   "metadata": {},
   "outputs": [],
   "source": [
    "import pandas as pd\n",
    "import numpy as np\n",
    "import matplotlib.pyplot as plt\n",
    "import seaborn as sns\n",
    "import scipy.stats as stats\n",
    "from scipy.stats import norm, jarque_bera, kstest, gamma, expon"
   ]
  },
  {
   "cell_type": "markdown",
   "metadata": {},
   "source": [
    "# 1. Parametric: Bootstrapping"
   ]
  },
  {
   "cell_type": "code",
   "execution_count": 2,
   "metadata": {},
   "outputs": [
    {
     "name": "stdout",
     "output_type": "stream",
     "text": [
      "Shape of df:  (618, 4)\n"
     ]
    },
    {
     "data": {
      "text/html": [
       "<div>\n",
       "<style scoped>\n",
       "    .dataframe tbody tr th:only-of-type {\n",
       "        vertical-align: middle;\n",
       "    }\n",
       "\n",
       "    .dataframe tbody tr th {\n",
       "        vertical-align: top;\n",
       "    }\n",
       "\n",
       "    .dataframe thead th {\n",
       "        text-align: right;\n",
       "    }\n",
       "</style>\n",
       "<table border=\"1\" class=\"dataframe\">\n",
       "  <thead>\n",
       "    <tr style=\"text-align: right;\">\n",
       "      <th></th>\n",
       "      <th>Date</th>\n",
       "      <th>Time</th>\n",
       "      <th>Duration</th>\n",
       "      <th>PatientType</th>\n",
       "    </tr>\n",
       "  </thead>\n",
       "  <tbody>\n",
       "    <tr>\n",
       "      <th>0</th>\n",
       "      <td>2023-08-01</td>\n",
       "      <td>8.23</td>\n",
       "      <td>0.949176</td>\n",
       "      <td>Type 2</td>\n",
       "    </tr>\n",
       "    <tr>\n",
       "      <th>1</th>\n",
       "      <td>2023-08-01</td>\n",
       "      <td>8.49</td>\n",
       "      <td>0.479593</td>\n",
       "      <td>Type 1</td>\n",
       "    </tr>\n",
       "    <tr>\n",
       "      <th>2</th>\n",
       "      <td>2023-08-01</td>\n",
       "      <td>9.12</td>\n",
       "      <td>0.496112</td>\n",
       "      <td>Type 2</td>\n",
       "    </tr>\n",
       "    <tr>\n",
       "      <th>3</th>\n",
       "      <td>2023-08-01</td>\n",
       "      <td>10.26</td>\n",
       "      <td>0.691947</td>\n",
       "      <td>Type 2</td>\n",
       "    </tr>\n",
       "    <tr>\n",
       "      <th>4</th>\n",
       "      <td>2023-08-01</td>\n",
       "      <td>10.64</td>\n",
       "      <td>0.345412</td>\n",
       "      <td>Type 1</td>\n",
       "    </tr>\n",
       "  </tbody>\n",
       "</table>\n",
       "</div>"
      ],
      "text/plain": [
       "        Date   Time  Duration PatientType\n",
       "0 2023-08-01   8.23  0.949176      Type 2\n",
       "1 2023-08-01   8.49  0.479593      Type 1\n",
       "2 2023-08-01   9.12  0.496112      Type 2\n",
       "3 2023-08-01  10.26  0.691947      Type 2\n",
       "4 2023-08-01  10.64  0.345412      Type 1"
      ]
     },
     "execution_count": 2,
     "metadata": {},
     "output_type": "execute_result"
    }
   ],
   "source": [
    "df = pd.read_csv(\"ScanRecords.csv\")\n",
    "df['Date'] = pd.to_datetime(df['Date'])\n",
    "print(\"Shape of df: \", df.shape)\n",
    "df.head()"
   ]
  },
  {
   "cell_type": "code",
   "execution_count": 3,
   "metadata": {},
   "outputs": [],
   "source": [
    "df1 = df[df[\"PatientType\"] == \"Type 1\"]\n",
    "df2 = df[df[\"PatientType\"] == \"Type 2\"]"
   ]
  },
  {
   "cell_type": "code",
   "execution_count": 4,
   "metadata": {},
   "outputs": [
    {
     "name": "stdout",
     "output_type": "stream",
     "text": [
      "             count      mean       std       min       25%       50%  \\\n",
      "PatientType                                                            \n",
      "Type 1       379.0  0.432661  0.097774  0.093731  0.368123  0.435888   \n",
      "Type 2       239.0  0.669339  0.187286  0.220708  0.523962  0.646603   \n",
      "\n",
      "                  75%       max  \n",
      "PatientType                      \n",
      "Type 1       0.496907  0.708922  \n",
      "Type 2       0.796523  1.146789  \n"
     ]
    }
   ],
   "source": [
    "print(df.groupby('PatientType')['Duration'].describe())  "
   ]
  },
  {
   "cell_type": "markdown",
   "metadata": {},
   "source": [
    "## Type 1"
   ]
  },
  {
   "cell_type": "markdown",
   "metadata": {},
   "source": [
    "## 1.1. Duration (Normal)"
   ]
  },
  {
   "cell_type": "code",
   "execution_count": 5,
   "metadata": {},
   "outputs": [
    {
     "data": {
      "text/html": [
       "<div>\n",
       "<style scoped>\n",
       "    .dataframe tbody tr th:only-of-type {\n",
       "        vertical-align: middle;\n",
       "    }\n",
       "\n",
       "    .dataframe tbody tr th {\n",
       "        vertical-align: top;\n",
       "    }\n",
       "\n",
       "    .dataframe thead th {\n",
       "        text-align: right;\n",
       "    }\n",
       "</style>\n",
       "<table border=\"1\" class=\"dataframe\">\n",
       "  <thead>\n",
       "    <tr style=\"text-align: right;\">\n",
       "      <th></th>\n",
       "      <th>Date</th>\n",
       "      <th>Time</th>\n",
       "      <th>Duration</th>\n",
       "      <th>PatientType</th>\n",
       "    </tr>\n",
       "  </thead>\n",
       "  <tbody>\n",
       "    <tr>\n",
       "      <th>1</th>\n",
       "      <td>2023-08-01</td>\n",
       "      <td>8.49</td>\n",
       "      <td>0.479593</td>\n",
       "      <td>Type 1</td>\n",
       "    </tr>\n",
       "    <tr>\n",
       "      <th>4</th>\n",
       "      <td>2023-08-01</td>\n",
       "      <td>10.64</td>\n",
       "      <td>0.345412</td>\n",
       "      <td>Type 1</td>\n",
       "    </tr>\n",
       "    <tr>\n",
       "      <th>5</th>\n",
       "      <td>2023-08-01</td>\n",
       "      <td>11.07</td>\n",
       "      <td>0.422270</td>\n",
       "      <td>Type 1</td>\n",
       "    </tr>\n",
       "    <tr>\n",
       "      <th>6</th>\n",
       "      <td>2023-08-01</td>\n",
       "      <td>11.13</td>\n",
       "      <td>0.356129</td>\n",
       "      <td>Type 1</td>\n",
       "    </tr>\n",
       "    <tr>\n",
       "      <th>8</th>\n",
       "      <td>2023-08-01</td>\n",
       "      <td>11.56</td>\n",
       "      <td>0.423303</td>\n",
       "      <td>Type 1</td>\n",
       "    </tr>\n",
       "  </tbody>\n",
       "</table>\n",
       "</div>"
      ],
      "text/plain": [
       "        Date   Time  Duration PatientType\n",
       "1 2023-08-01   8.49  0.479593      Type 1\n",
       "4 2023-08-01  10.64  0.345412      Type 1\n",
       "5 2023-08-01  11.07  0.422270      Type 1\n",
       "6 2023-08-01  11.13  0.356129      Type 1\n",
       "8 2023-08-01  11.56  0.423303      Type 1"
      ]
     },
     "execution_count": 5,
     "metadata": {},
     "output_type": "execute_result"
    }
   ],
   "source": [
    "df1.head()"
   ]
  },
  {
   "cell_type": "code",
   "execution_count": 7,
   "metadata": {},
   "outputs": [
    {
     "name": "stdout",
     "output_type": "stream",
     "text": [
      "Bootstrap mean of Duration: 0.43251061296850873\n",
      "95% CI for Mean Duration: (np.float64(0.43043568196570087), np.float64(0.43053810075044235))\n",
      "Bootstrap std of Duration: 0.09751270930223084\n",
      "95% CI for Std Duration: (np.float64(0.08941876370936568), np.float64(0.10429982796802262))\n"
     ]
    }
   ],
   "source": [
    "def bootstrap_Type1(df1, B1, alpha):\n",
    "    \n",
    "    #np.random.seed(515)\n",
    "\n",
    "    n = len(df1)\n",
    "    X_bar = np.mean(df1['Duration'])  # sample mean\n",
    "    St_Dev = np.std(df1['Duration'], ddof=1)  # sample variance\n",
    "\n",
    "    # Initialize empty arrays \n",
    "    X_star_bar = np.empty(B1) # bootstap sample mean\n",
    "    X_star_sd = np.empty(B1) # bootstap sample variance\n",
    "    Q_star = np.empty(B1)  # store the bootstrap quantities (bootstrap t-statistic)\n",
    "\n",
    "    # Bootstrapping\n",
    "    for b in range(B1):\n",
    "        J = np.random.choice(np.arange(n), size=n, replace=True)  # Resampling with replacement\n",
    "        X_star = df1['Duration'].iloc[J]  # Construct the bootstrap sample\n",
    "        X_star_bar[b] = np.mean(X_star)  # Calculate the bootstrap sample mean\n",
    "        X_star_sd[b] = np.std(X_star, ddof=1)  # Calculate the bootstrap sample std (unbiased)\n",
    "        Q_star[b] = np.sqrt(n) * (X_star_bar[b] - X_bar) / X_star_sd[b]  # T-statistic\n",
    "\n",
    "\n",
    "    # cv for mean\n",
    "    cv_mean_LB = np.quantile(X_star_bar, alpha / 2)\n",
    "    cv_mean_UB = np.quantile(X_star_bar, 1 - alpha / 2)\n",
    "\n",
    "    # ci for the mean\n",
    "    CI_mean_LB = X_bar - cv_mean_UB * St_Dev / np.sqrt(n)\n",
    "    CI_mean_UP = X_bar - cv_mean_LB * St_Dev / np.sqrt(n)\n",
    "\n",
    "    # ci for std\n",
    "    ci_std_LB = np.quantile(X_star_sd, alpha / 2)\n",
    "    ci_std_UB = np.quantile(X_star_sd, 1 - alpha / 2)\n",
    "\n",
    "\n",
    "    results = {\n",
    "        \"Bootstrap mean of Duration\": np.mean(X_star_bar),\n",
    "        \"95% CI for Mean Duration\": (CI_mean_LB, CI_mean_UP),\n",
    "        \"Bootstrap std of Duration\": np.mean(X_star_sd),\n",
    "        \"95% CI for Std Duration\": (ci_std_LB, ci_std_UB)\n",
    "    }\n",
    "    \n",
    "    return results\n",
    "\n",
    "results = bootstrap_Type1(df1, B1=499, alpha=0.05)\n",
    "for key, value in results.items():\n",
    "    print(f\"{key}: {value}\")\n"
   ]
  },
  {
   "cell_type": "code",
   "execution_count": 8,
   "metadata": {},
   "outputs": [
    {
     "name": "stdout",
     "output_type": "stream",
     "text": [
      "Bootstrap mean of Duration:  25.960083444552488\n",
      "95% CI for Mean Duration: ( 25.826140917942052 , 25.832286045026542 )\n",
      "Bootstrap std of Duration:  5.855271864642919\n",
      "95% CI for Mean Duration: ( 5.445940067427834 , 6.284728588992466 )\n"
     ]
    }
   ],
   "source": [
    "print(\"Bootstrap mean of Duration: \", 0.4326680574092081*60)\n",
    "print(\"95% CI for Mean Duration: (\", 0.43043568196570087*60, \",\", 0.43053810075044235*60,\")\")\n",
    "print(\"Bootstrap std of Duration: \", 0.09758786441071532*60)\n",
    "print(\"95% CI for Mean Duration: (\", 0.09076566779046391*60, \",\", 0.10474547648320777*60, \")\")"
   ]
  },
  {
   "cell_type": "markdown",
   "metadata": {},
   "source": [
    "## 1.2. Mean Interarrival time (exponential)"
   ]
  },
  {
   "cell_type": "code",
   "execution_count": 24,
   "metadata": {},
   "outputs": [
    {
     "name": "stdout",
     "output_type": "stream",
     "text": [
      "Mean Inter-arrival time:  0.5453439153439154\n"
     ]
    }
   ],
   "source": [
    "numRows = len(df1)\n",
    "interArrivals1 = []\n",
    "\n",
    "for i in range(numRows - 1):\n",
    "    if df1.iloc[i][\"Date\"] == df1.iloc[i + 1][\"Date\"]:\n",
    "        # interaarival time of arrivals on the same day\n",
    "        interval = df1.iloc[i + 1][\"Time\"] - df1.iloc[i][\"Time\"]\n",
    "    else:\n",
    "        interval = (17 - df1.iloc[i][\"Time\"]) + (df1.iloc[i + 1][\"Time\"] - 8)\n",
    "    interArrivals1.append(interval)\n",
    "\n",
    "interArrivals1 = np.array(interArrivals1)\n",
    "\n",
    "print(\"Mean Inter-arrival time: \", np.mean(interArrivals1))"
   ]
  },
  {
   "cell_type": "code",
   "execution_count": 25,
   "metadata": {},
   "outputs": [
    {
     "name": "stdout",
     "output_type": "stream",
     "text": [
      "Bootstrap mean of interArrivals: 0.5455232687597417\n",
      "95% CI for Mean interArrivals: (np.float64(0.481760582010582), np.float64(0.6028756613756614))\n",
      "Bootstrap std of interArrivals: 0.5812950397873389\n",
      "95% CI for std interArrivals: (np.float64(0.5094733560774076), np.float64(0.6537034883756188))\n"
     ]
    }
   ],
   "source": [
    "def bootstrap_Type1(interArrivals, B1, alpha):\n",
    "\n",
    "    np.random.seed(515)\n",
    "\n",
    "    n1 = len(interArrivals)\n",
    "    X_bar = np.mean(interArrivals)\n",
    "    St_Dev = np.std(interArrivals, ddof=1)  \n",
    "\n",
    "    # Empty arrays for bootstrap quantities\n",
    "    X_star_bar = np.empty(B1)\n",
    "    X_star_sd = np.empty(B1)\n",
    "    Q_star_mean = np.empty(B1)\n",
    "    Q_star_sd = np.empty(B1)\n",
    "\n",
    "    # Bootstrapping\n",
    "    for b in range(B1):\n",
    "        J1 = np.random.choice(np.arange(n1), size=n1, replace=True)  # Resampling with replacement\n",
    "        X_star = interArrivals[J1]  # Construct the bootstrap sample\n",
    "        X_star_bar[b] = np.mean(X_star)  # Calculate the bootstrap sample mean\n",
    "        X_star_sd[b] = np.std(X_star, ddof=1)  # Calculate the bootstrap sample std (unbiased)\n",
    "        Q_star_mean[b] = np.sqrt(n1) * (X_star_bar[b] - X_bar) / St_Dev  # Bootstrap quantity for the mean\n",
    "        Q_star_sd[b] = (X_star_sd[b] - St_Dev) / (St_Dev / np.sqrt(n1))  # Bootstrap quantity for std\n",
    "\n",
    "    # cv for mean\n",
    "    cv_mean_LB = np.quantile(Q_star_mean, alpha / 2)\n",
    "    cv_mean_UB = np.quantile(Q_star_mean, 1 - alpha / 2)\n",
    "\n",
    "    # cv for std\n",
    "    cv_sd_LB = np.quantile(Q_star_sd, alpha / 2)\n",
    "    cv_sd_UB = np.quantile(Q_star_sd, 1 - alpha / 2)\n",
    "\n",
    "    # ci for the mean\n",
    "    CI_mean_LB = X_bar - cv_mean_UB * St_Dev / np.sqrt(n1)\n",
    "    CI_mean_UP = X_bar - cv_mean_LB * St_Dev / np.sqrt(n1)\n",
    "\n",
    "    # ci for the standard deviation\n",
    "    CI_sd_LB = St_Dev + cv_sd_LB * (St_Dev / np.sqrt(n1))\n",
    "    CI_sd_UP = St_Dev + cv_sd_UB * (St_Dev / np.sqrt(n1))\n",
    "\n",
    "    results = {\n",
    "        \"Bootstrap mean of interArrivals\": np.mean(X_star_bar),\n",
    "        \"95% CI for Mean interArrivals\": (CI_mean_LB, CI_mean_UP),\n",
    "        \"Bootstrap std of interArrivals\": np.mean(X_star_sd),\n",
    "        \"95% CI for std interArrivals\": (CI_sd_LB, CI_sd_UP)\n",
    "    }\n",
    "\n",
    "    return results\n",
    "\n",
    "# Example usage\n",
    "results = bootstrap_Type1(interArrivals1, B1=499, alpha=0.05)\n",
    "for key, value in results.items():\n",
    "    print(f\"{key}: {value}\")\n"
   ]
  },
  {
   "cell_type": "code",
   "execution_count": 26,
   "metadata": {},
   "outputs": [
    {
     "name": "stdout",
     "output_type": "stream",
     "text": [
      "Bootstrap mean of interArrivals:  32.7313961255845\n",
      "95% CI for Mean interArrivals: ( 28.905634920634917 , 36.172539682539686 )\n",
      "Bootstrap std of interArrivals:  34.87770238724033\n",
      "95% CI for Mean interArrivals: ( 30.56840136464446 , 39.222209302537124 )\n"
     ]
    }
   ],
   "source": [
    "print(\"Bootstrap mean of interArrivals: \",0.5455232687597417*60)\n",
    "print(\"95% CI for Mean interArrivals: (\", 0.481760582010582*60, \",\", 0.6028756613756614*60,\")\")\n",
    "print(\"Bootstrap std of interArrivals: \", 0.5812950397873389*60)\n",
    "print(\"95% CI for Mean interArrivals: (\", 0.5094733560774076*60, \",\", 0.6537034883756188*60, \")\")"
   ]
  },
  {
   "cell_type": "code",
   "execution_count": null,
   "metadata": {},
   "outputs": [
    {
     "name": "stdout",
     "output_type": "stream",
     "text": [
      "Bootstrap mean of interArrivals: 0.5446245400854618\n",
      "95% CI for Mean interArrivals: (np.float64(0.6203758653854785), np.float64(0.4895444229586992))\n",
      "Bootstrap std of interArrivals: 0.5795309007316473\n",
      "95% CI for std interArrivals: (np.float64(-2.50422752248658), np.float64(1.8623349718944266))\n"
     ]
    }
   ],
   "source": [
    "def bootstrap_Type1(interArrivals, B1, alpha):\n",
    "\n",
    "    n1 = len(interArrivals)\n",
    "    X_bar = np.mean(interArrivals)\n",
    "    St_Dev = np.std(interArrivals)\n",
    "\n",
    "    # empty arrays for bootstrap quantities\n",
    "    X_star_bar = np.empty(B1)\n",
    "    X_star_sd = np.empty(B1)\n",
    "    Q_star = np.empty(B1)\n",
    "\n",
    "    # bootstrapping\n",
    "    for b in range(B1):\n",
    "        J1 = np.random.choice(np.arange(n1), size=n1, replace=True) # Resampling with replacement\n",
    "        X_star = interArrivals[J1] # Construct the bootstrap sample\n",
    "        X_star_bar[b] = np.mean(X_star) # Calculate the bootstrap sample mean\n",
    "        X_star_sd[b] = np.std(X_star) # Calculate the bootstrap sample variance\n",
    "        Q_star[b] = np.sqrt(n1) * (X_star_bar[b] - X_bar) / X_star_sd[b] # Calculate the bootstrap quantity\n",
    "\n",
    "    # Critical values\n",
    "    cv_LB = np.quantile(Q_star, alpha / 2)\n",
    "    cv_UB = np.quantile(Q_star, 1 - alpha / 2)\n",
    "\n",
    "    # Confidence interval\n",
    "    CI_LB = X_bar - cv_LB * St_Dev / np.sqrt(n1)\n",
    "    CI_UP = X_bar - cv_UB * St_Dev / np.sqrt(n1)\n",
    "\n",
    "    results = {\n",
    "        \"Bootstrap mean of interArrivals\": np.mean(X_star_bar),\n",
    "        \"95% CI for Mean interArrivals\": (CI_LB, CI_UP),\n",
    "        \"Bootstrap std of interArrivals\": np.mean(X_star_sd),\n",
    "        \"95% CI for std interArrivals\": (cv_LB, cv_UB)\n",
    "    }\n",
    "    \n",
    "    return results\n",
    "\n",
    "results = bootstrap_Type1(interArrivals1, B1=499, alpha=0.05)\n",
    "for key, value in results.items():\n",
    "    print(f\"{key}: {value}\")"
   ]
  },
  {
   "cell_type": "markdown",
   "metadata": {},
   "source": [
    "# 2. Type 2"
   ]
  },
  {
   "cell_type": "markdown",
   "metadata": {},
   "source": [
    "## 2.1. Duration (Gamma)"
   ]
  },
  {
   "cell_type": "code",
   "execution_count": 11,
   "metadata": {},
   "outputs": [
    {
     "name": "stdout",
     "output_type": "stream",
     "text": [
      "12.584814582926688\n",
      "0.05318623207452434\n"
     ]
    }
   ],
   "source": [
    "shape_b, loc_b, scale_b = gamma.fit(df2['Duration'], floc=0) \n",
    "print(shape_b)\n",
    "print(scale_b)"
   ]
  },
  {
   "cell_type": "code",
   "execution_count": 34,
   "metadata": {},
   "outputs": [
    {
     "name": "stdout",
     "output_type": "stream",
     "text": [
      "Rejection Percentage: 3.5999999999999996\n",
      "Confidence Interval for the Mean: (np.float64(0.6585128688697752), np.float64(0.7080340902257598))\n",
      "Bootstrap CI for the Shape: [10.64875932 14.54114995]\n",
      "Bootstrap Gamma Shape : 12.390540738953662\n",
      "Bootstrap CI for the Scale: [0.0468788  0.06449381]\n",
      "Bootstrap Gamma Scale : 0.05559457514412516\n"
     ]
    }
   ],
   "source": [
    "def mc_bootstrap_gamma(df, nr_sim=1000, B=499, alpha=0.05):\n",
    "\n",
    "    np.random.seed(515)\n",
    "\n",
    "    n2 = len(df)  # Sample size\n",
    "    reject = np.zeros(nr_sim)  # Vector to store rejections\n",
    "\n",
    "    # Initial statistics\n",
    "    xbar = np.mean(df)\n",
    "    std = np.std(df, ddof=1)\n",
    "\n",
    "    # Pre-allocate arrays for bootstrap results\n",
    "    gamma_shape = np.empty(B)\n",
    "    gamma_scale = np.empty(B)\n",
    "\n",
    "    # Monte Carlo simulation\n",
    "    for i in range(nr_sim):\n",
    "        X = np.random.choice(df, size=n2, replace=True)  # Bootstrap sample\n",
    "        X_bar = np.mean(X)\n",
    "        St_Dev = np.std(X, ddof=1)\n",
    "        Q = np.sqrt(n2) * (X_bar - xbar) / St_Dev\n",
    "\n",
    "        Q_star = np.empty(B)\n",
    "\n",
    "        # Bootstrap procedure\n",
    "        for b in range(B):\n",
    "            J = np.random.choice(n2, size=n2, replace=True)\n",
    "            X_star = X[J]\n",
    "            X_bar_star = np.mean(X_star)\n",
    "            St_Dev_star = np.std(X_star, ddof=1)\n",
    "            Q_star[b] = np.sqrt(n2) * (X_bar_star - X_bar) / St_Dev_star\n",
    "\n",
    "            # Fit gamma distribution to bootstrap sample\n",
    "            shape_b, loc_b, scale_b = gamma.fit(X_star, floc=0)\n",
    "            gamma_shape[b] = shape_b\n",
    "            gamma_scale[b] = scale_b\n",
    "\n",
    "        # Critical values\n",
    "        cv_LB = np.quantile(Q_star, alpha / 2)\n",
    "        cv_UB = np.quantile(Q_star, 1 - alpha / 2)\n",
    "\n",
    "        # Confidence interval for the mean\n",
    "        CI_LB = X_bar - cv_UB * std / np.sqrt(n2)\n",
    "        CI_UP = X_bar - cv_LB * std / np.sqrt(n2)\n",
    "\n",
    "        # Hypothesis test\n",
    "        if Q < cv_LB or Q > cv_UB:\n",
    "            reject[i] = 1\n",
    "\n",
    "    # Calculate empirical rejection frequency\n",
    "    ERF = np.mean(reject)\n",
    "\n",
    "    # Bootstrap confidence intervals for gamma parameters\n",
    "    shape_CI = np.percentile(gamma_shape, [alpha / 2 * 100, (1 - alpha / 2) * 100])\n",
    "    scale_CI = np.percentile(gamma_scale, [alpha / 2 * 100, (1 - alpha / 2) * 100])\n",
    "\n",
    "    # Output results\n",
    "    results = {\n",
    "        \"Rejection Percentage\": 100 * ERF,\n",
    "        \"Confidence Interval for the Mean\": (CI_LB, CI_UP),\n",
    "        \"Bootstrap CI for the Shape\": shape_CI,\n",
    "        \"Bootstrap Gamma Shape \": np.mean(gamma_shape),\n",
    "        \"Bootstrap CI for the Scale\": scale_CI,\n",
    "        \"Bootstrap Gamma Scale \": np.mean(gamma_scale),\n",
    "    }\n",
    "    \n",
    "\n",
    "    return results\n",
    "\n",
    "\n",
    "results = mc_bootstrap(df2['Duration'].values)\n",
    "for key, value in results.items():\n",
    "    print(f\"{key}: {value}\")\n"
   ]
  },
  {
   "cell_type": "markdown",
   "metadata": {},
   "source": [
    "## 2.2. Interarrival (Normal)"
   ]
  },
  {
   "cell_type": "code",
   "execution_count": 37,
   "metadata": {},
   "outputs": [
    {
     "name": "stdout",
     "output_type": "stream",
     "text": [
      "0.8666386554621849\n",
      "0.3101335502810958\n"
     ]
    }
   ],
   "source": [
    "numRows = len(df2)\n",
    "interArrivals2 = []\n",
    "\n",
    "for i in range(numRows - 1):\n",
    "    if df2.iloc[i][\"Date\"] == df2.iloc[i + 1][\"Date\"]:\n",
    "        # interaarival time of arrivals on the same day\n",
    "        interval = df2.iloc[i + 1][\"Time\"] - df2.iloc[i][\"Time\"]\n",
    "    else:\n",
    "        interval = (17 - df2.iloc[i][\"Time\"]) + (df2.iloc[i + 1][\"Time\"] - 8)\n",
    "    interArrivals2.append(interval)\n",
    "\n",
    "interArrivals2 = np.array(interArrivals2)\n",
    "\n",
    "print(np.mean(interArrivals2))\n",
    "print(np.std(interArrivals2))"
   ]
  },
  {
   "cell_type": "code",
   "execution_count": 44,
   "metadata": {},
   "outputs": [
    {
     "name": "stdout",
     "output_type": "stream",
     "text": [
      "Rejection Percentage: 4.3999999999999995\n",
      "Bootstrap CI for the Mean: [0.8345042  0.91065336]\n",
      "Bootstrap Mean: 0.8728765093211635\n",
      "Bootstrap CI for the STD: [0.26310298 0.32246551]\n",
      "Bootstrap STD: 0.2919576914357435\n"
     ]
    }
   ],
   "source": [
    "def mc_bootstrap_normal(data, nr_sim=1000, B=499, alpha=0.05):\n",
    "\n",
    "    np.random.seed(515)\n",
    "\n",
    "    n2 = len(data)  # Sample size\n",
    "    reject = np.zeros(nr_sim)  # Vector to store rejections\n",
    "\n",
    "    # Initial statistics\n",
    "    xbar = np.mean(data)\n",
    "    std = np.std(data, ddof=1)\n",
    "\n",
    "    # to store bootstrap results\n",
    "    means = np.empty(B)\n",
    "    stds = np.empty(B)\n",
    "\n",
    "    # mc simulation\n",
    "    for i in range(nr_sim):\n",
    "        X = np.random.choice(data, size=n2, replace=True)  # Bootstrap sample\n",
    "        X_bar = np.mean(X)\n",
    "        St_Dev = np.std(X, ddof=1)\n",
    "        Q = np.sqrt(n2) * (X_bar - xbar) / St_Dev\n",
    "\n",
    "        Q_star = np.empty(B)\n",
    "\n",
    "        # Bootstrap procedure\n",
    "        for b in range(B):\n",
    "            J = np.random.choice(n2, size=n2, replace=True)\n",
    "            X_star = X[J]\n",
    "            X_bar_star = np.mean(X_star)\n",
    "            St_Dev_star = np.std(X_star, ddof=1)\n",
    "            Q_star[b] = np.sqrt(n2) * (X_bar_star - X_bar) / St_Dev_star\n",
    "\n",
    "            # Fit normal distribution to bootstrap sample\n",
    "            mean_b, std_b = norm.fit(X_star)\n",
    "            means[b] = mean_b\n",
    "            stds[b] = std_b\n",
    "\n",
    "        # Critical values\n",
    "        cv_LB = np.quantile(Q_star, alpha / 2)\n",
    "        cv_UB = np.quantile(Q_star, 1 - alpha / 2)\n",
    "\n",
    "        # Confidence interval for the mean\n",
    "        CI_LB = X_bar - cv_UB * std / np.sqrt(n2)\n",
    "        CI_UP = X_bar - cv_LB * std / np.sqrt(n2)\n",
    "\n",
    "        # Hypothesis test\n",
    "        if Q < cv_LB or Q > cv_UB:\n",
    "            reject[i] = 1\n",
    "\n",
    "    # Calculate empirical rejection frequency\n",
    "    ERF = np.mean(reject)\n",
    "\n",
    "    # Bootstrap confidence intervals for parameters\n",
    "    mean_CI = np.percentile(means, [alpha / 2 * 100, (1 - alpha / 2) * 100])\n",
    "    std_CI = np.percentile(stds, [alpha / 2 * 100, (1 - alpha / 2) * 100])\n",
    "\n",
    "    # Output results\n",
    "    results = {\n",
    "        \"Rejection Percentage\": 100 * ERF,\n",
    "        \"Bootstrap CI for the Mean\": mean_CI,\n",
    "        \"Bootstrap Mean\": np.mean(means),\n",
    "        \"Bootstrap CI for the STD\": std_CI,\n",
    "        \"Bootstrap STD\": np.mean(stds),\n",
    "    }\n",
    "    return results\n",
    "\n",
    "\n",
    "# Example Usage for Normally Distributed Data\n",
    "normal_results = mc_bootstrap_normal(interArrivals2)\n",
    "for key, value in normal_results.items():\n",
    "    print(f\"{key}: {value}\")\n"
   ]
  }
 ],
 "metadata": {
  "kernelspec": {
   "display_name": "3.9.18",
   "language": "python",
   "name": "python3"
  },
  "language_info": {
   "codemirror_mode": {
    "name": "ipython",
    "version": 3
   },
   "file_extension": ".py",
   "mimetype": "text/x-python",
   "name": "python",
   "nbconvert_exporter": "python",
   "pygments_lexer": "ipython3",
   "version": "3.9.18"
  }
 },
 "nbformat": 4,
 "nbformat_minor": 2
}
